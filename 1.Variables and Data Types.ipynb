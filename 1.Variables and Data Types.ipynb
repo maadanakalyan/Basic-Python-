{
 "cells": [
  {
   "cell_type": "markdown",
   "id": "7644f630-e8f8-4d54-aefe-085bf0958511",
   "metadata": {},
   "source": [
    "## 1: Writing the First Python Program"
   ]
  },
  {
   "cell_type": "code",
   "execution_count": 2,
   "id": "c707e37c-f196-4f4e-b793-a0388970e6aa",
   "metadata": {},
   "outputs": [
    {
     "name": "stdout",
     "output_type": "stream",
     "text": [
      "Hello, World!\n"
     ]
    }
   ],
   "source": [
    "print(\"Hello, World!\")"
   ]
  },
  {
   "cell_type": "markdown",
   "id": "6cb5b02b-059b-492c-b532-e3a6103928d6",
   "metadata": {},
   "source": [
    "## A Simple Program with Input"
   ]
  },
  {
   "cell_type": "code",
   "execution_count": 4,
   "id": "2d88ca33-7ad3-4dd2-973b-2b2d74b2306e",
   "metadata": {},
   "outputs": [
    {
     "name": "stdin",
     "output_type": "stream",
     "text": [
      "Enter your name:  Kalyan\n"
     ]
    },
    {
     "name": "stdout",
     "output_type": "stream",
     "text": [
      "Welcome, Kalyan!\n"
     ]
    }
   ],
   "source": [
    "name = input(\"Enter your name: \")\n",
    "print(\"Welcome, \" + name + \"!\")"
   ]
  },
  {
   "cell_type": "markdown",
   "id": "5bc13622-edec-46bd-b9c4-4ff1984fe249",
   "metadata": {},
   "source": [
    "## Topic 2: Variables and Data Types\n",
    "\n",
    "What is a Variable?\n",
    "A variable is a name that stores data in memory.\n",
    "Think of it like a box where you keep something — a number, text, etc"
   ]
  },
  {
   "cell_type": "code",
   "execution_count": 6,
   "id": "80f2b40a-10c6-48ed-8904-da8cca91a282",
   "metadata": {},
   "outputs": [],
   "source": [
    "age = 2\n",
    "name = \"Kalyan\""
   ]
  },
  {
   "cell_type": "code",
   "execution_count": 7,
   "id": "9e8d062c-6170-4217-920b-bdea6fb1f08e",
   "metadata": {},
   "outputs": [
    {
     "name": "stdout",
     "output_type": "stream",
     "text": [
      "5 <class 'int'>\n",
      "3.14 <class 'float'>\n",
      "Kalyan <class 'str'>\n",
      "True <class 'bool'>\n"
     ]
    }
   ],
   "source": [
    "# Integer\n",
    "x = 5\n",
    "print(x, type(x))  # Output: 5 <class 'int'>\n",
    "\n",
    "# Float\n",
    "pi = 3.14\n",
    "print(pi, type(pi))  # Output: 3.14 <class 'float'>\n",
    "\n",
    "# String\n",
    "name = \"Kalyan\"\n",
    "print(name, type(name))  # Output: Kalyan <class 'str'>\n",
    "\n",
    "# Boolean\n",
    "is_student = True\n",
    "print(is_student, type(is_student))  # Output: True <class 'bool'>\n"
   ]
  },
  {
   "cell_type": "markdown",
   "id": "b9b7dcbc-3466-4a97-8027-b8ca353a4bb4",
   "metadata": {},
   "source": [
    "## Type Conversion (Casting)\n",
    "We can change one type to another using:\n",
    "    \n",
    "    int()\n",
    "\n",
    "    float()\n",
    "\n",
    "    str()\n",
    "\n",
    "    bool()"
   ]
  },
  {
   "cell_type": "code",
   "execution_count": 9,
   "id": "859c0ea3-fe44-4a20-9ee1-aaa9a174da2c",
   "metadata": {},
   "outputs": [
    {
     "name": "stdout",
     "output_type": "stream",
     "text": [
      "15\n"
     ]
    }
   ],
   "source": [
    "a = \"10\"\n",
    "b = int(a)  # convert string to int\n",
    "print(b + 5)  # Output: 15"
   ]
  },
  {
   "cell_type": "code",
   "execution_count": 10,
   "id": "cc771056-8cd9-4b11-bcfb-e945508670bf",
   "metadata": {},
   "outputs": [
    {
     "name": "stdin",
     "output_type": "stream",
     "text": [
      "What is your name?  Kalyan\n",
      "What is your age?  24\n"
     ]
    },
    {
     "name": "stdout",
     "output_type": "stream",
     "text": [
      "Hello Kalyan! You will be 25 next year.\n"
     ]
    }
   ],
   "source": [
    "## writing a small program:\n",
    "\n",
    "name = input(\"What is your name? \")\n",
    "age = int(input(\"What is your age? \"))\n",
    "print(\"Hello\", name + \"!\", \"You will be\", age + 1, \"next year.\")\n"
   ]
  },
  {
   "cell_type": "code",
   "execution_count": null,
   "id": "91ca0b1a-9ce3-46a4-bee5-1feb7f5427ec",
   "metadata": {},
   "outputs": [],
   "source": []
  },
  {
   "cell_type": "code",
   "execution_count": null,
   "id": "60f4f378-106b-4da9-9430-6b1c0b410fee",
   "metadata": {},
   "outputs": [],
   "source": []
  }
 ],
 "metadata": {
  "kernelspec": {
   "display_name": "Python 3 (ipykernel)",
   "language": "python",
   "name": "python3"
  },
  "language_info": {
   "codemirror_mode": {
    "name": "ipython",
    "version": 3
   },
   "file_extension": ".py",
   "mimetype": "text/x-python",
   "name": "python",
   "nbconvert_exporter": "python",
   "pygments_lexer": "ipython3",
   "version": "3.13.5"
  }
 },
 "nbformat": 4,
 "nbformat_minor": 5
}
