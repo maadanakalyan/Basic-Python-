{
 "cells": [
  {
   "cell_type": "markdown",
   "id": "4db5b795-403e-4d35-aa79-49ebdcebaa71",
   "metadata": {},
   "source": [
    "# List Comprension\n",
    "### List comprehension is a short and easy way to make a new list in Python.\n",
    "\n",
    "### Instead of writing a long for loop, you can create a list in one line using list comprehension."
   ]
  },
  {
   "cell_type": "markdown",
   "id": "b76d3d06-7a17-43ed-a535-f9b65aef7271",
   "metadata": {},
   "source": [
    "## With list comprehension"
   ]
  },
  {
   "cell_type": "code",
   "execution_count": 3,
   "id": "65f67479-e5b3-4864-8f2e-5f907fc24218",
   "metadata": {},
   "outputs": [
    {
     "data": {
      "text/plain": [
       "[0, 1, 4, 9, 16]"
      ]
     },
     "execution_count": 3,
     "metadata": {},
     "output_type": "execute_result"
    }
   ],
   "source": [
    "squares = [x * x for x in range(5)]\n",
    "squares"
   ]
  },
  {
   "cell_type": "code",
   "execution_count": 4,
   "id": "429c7f52-aaa9-4021-8d89-ecd9620cb931",
   "metadata": {},
   "outputs": [],
   "source": [
    "## Without list comprehension"
   ]
  },
  {
   "cell_type": "code",
   "execution_count": 5,
   "id": "3b774f42-b2d5-47e3-8faa-b67d9be6967a",
   "metadata": {},
   "outputs": [],
   "source": [
    "squares1 = []\n",
    "for x in range(5):\n",
    "    squares.append(x * x)"
   ]
  },
  {
   "cell_type": "code",
   "execution_count": 6,
   "id": "e9e931aa-9dc1-4927-8bb4-9270fc4e1426",
   "metadata": {},
   "outputs": [],
   "source": [
    "lst1=[]\n",
    "def lst_square(lst):\n",
    "    for i in lst:\n",
    "        lst1.append(i*i)\n",
    "    return lst1"
   ]
  },
  {
   "cell_type": "code",
   "execution_count": 7,
   "id": "b132cd93-8231-40fa-86b0-8a8d9fad3c93",
   "metadata": {},
   "outputs": [
    {
     "data": {
      "text/plain": [
       "[1, 4, 9, 16, 25, 36, 49]"
      ]
     },
     "execution_count": 7,
     "metadata": {},
     "output_type": "execute_result"
    }
   ],
   "source": [
    "lst_square([1,2,3,4,5,6,7])"
   ]
  },
  {
   "cell_type": "code",
   "execution_count": 8,
   "id": "b1f650da-a7af-4ac4-a21b-0a87642d8cad",
   "metadata": {},
   "outputs": [],
   "source": [
    "lst=[1,2,3,4,5,6,7]"
   ]
  },
  {
   "cell_type": "code",
   "execution_count": 9,
   "id": "6499366d-d847-4c4d-bd3f-8849264f77c9",
   "metadata": {},
   "outputs": [
    {
     "data": {
      "text/plain": [
       "[1, 4, 9, 16, 25, 36, 49]"
      ]
     },
     "execution_count": 9,
     "metadata": {},
     "output_type": "execute_result"
    }
   ],
   "source": [
    "## List Comprehension\n",
    "\n",
    "[i*i for i in lst ]"
   ]
  },
  {
   "cell_type": "code",
   "execution_count": 10,
   "id": "680920d9-5b62-4fab-8d9d-976d84768f80",
   "metadata": {},
   "outputs": [
    {
     "data": {
      "text/plain": [
       "[4, 16, 36]"
      ]
     },
     "execution_count": 10,
     "metadata": {},
     "output_type": "execute_result"
    }
   ],
   "source": [
    "[i*i for i in lst if i%2==0]"
   ]
  },
  {
   "cell_type": "code",
   "execution_count": 11,
   "id": "e4e71cef-08d1-41c3-acb1-2b4740cf4380",
   "metadata": {},
   "outputs": [
    {
     "data": {
      "text/plain": [
       "[1, 9, 25, 49]"
      ]
     },
     "execution_count": 11,
     "metadata": {},
     "output_type": "execute_result"
    }
   ],
   "source": [
    "[i*i for i in lst if i%2!=0]"
   ]
  },
  {
   "cell_type": "code",
   "execution_count": null,
   "id": "ebec0990-6491-4468-9a8b-d108b2f21f7d",
   "metadata": {},
   "outputs": [],
   "source": []
  },
  {
   "cell_type": "code",
   "execution_count": null,
   "id": "41af4f66-2137-45fc-a118-8583ec7368e8",
   "metadata": {},
   "outputs": [],
   "source": []
  }
 ],
 "metadata": {
  "kernelspec": {
   "display_name": "Python 3 (ipykernel)",
   "language": "python",
   "name": "python3"
  },
  "language_info": {
   "codemirror_mode": {
    "name": "ipython",
    "version": 3
   },
   "file_extension": ".py",
   "mimetype": "text/x-python",
   "name": "python",
   "nbconvert_exporter": "python",
   "pygments_lexer": "ipython3",
   "version": "3.13.5"
  }
 },
 "nbformat": 4,
 "nbformat_minor": 5
}
