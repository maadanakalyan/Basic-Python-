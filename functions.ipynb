{
 "cells": [
  {
   "cell_type": "markdown",
   "id": "75c93d8b-cdfc-4d78-bb80-4ce0df6511df",
   "metadata": {},
   "source": [
    "## Functions\n",
    "### why Function Function Defination Positional and Keyword Arguments in Functions\n"
   ]
  },
  {
   "cell_type": "code",
   "execution_count": 12,
   "id": "51e9153c-3d49-4642-88b8-1e5301ccdc98",
   "metadata": {},
   "outputs": [
    {
     "name": "stdout",
     "output_type": "stream",
     "text": [
      "The number is even\n"
     ]
    }
   ],
   "source": [
    "num = 24\n",
    "\n",
    "if num%2==0:\n",
    "    print(\"The number is even\")\n",
    "else:\n",
    "    print(\"The num is odd\")\n"
   ]
  },
  {
   "cell_type": "code",
   "execution_count": 15,
   "id": "dc91a9d8-ee86-4e4d-a84a-66d0abc52d50",
   "metadata": {},
   "outputs": [],
   "source": [
    "def even_odd(num):\n",
    "    if num%2==0:\n",
    "        print(\"The number is even\")\n",
    "    else:\n",
    "        print(\"The num is odd\")"
   ]
  },
  {
   "cell_type": "code",
   "execution_count": 16,
   "id": "6618c6e3-e650-4a05-8bbe-4c8fd9263e50",
   "metadata": {},
   "outputs": [
    {
     "name": "stdout",
     "output_type": "stream",
     "text": [
      "The number is even\n"
     ]
    }
   ],
   "source": [
    "even_odd(4)"
   ]
  },
  {
   "cell_type": "code",
   "execution_count": 11,
   "id": "d7eb4b28-7e69-489c-8964-ad21a7f83a0e",
   "metadata": {},
   "outputs": [
    {
     "name": "stdout",
     "output_type": "stream",
     "text": [
      "The num is odd\n"
     ]
    }
   ],
   "source": [
    "even_odd(7)"
   ]
  },
  {
   "cell_type": "code",
   "execution_count": 18,
   "id": "d13510a0-758a-4593-87a9-b7a96f977f58",
   "metadata": {},
   "outputs": [],
   "source": [
    "# print vs return\n",
    "def hello_world():\n",
    "    print(\"My name is kalyan\")"
   ]
  },
  {
   "cell_type": "code",
   "execution_count": 19,
   "id": "e3b4f556-4665-496d-9c57-9e69ef94ce04",
   "metadata": {},
   "outputs": [
    {
     "name": "stdout",
     "output_type": "stream",
     "text": [
      "My name is kalyan\n"
     ]
    }
   ],
   "source": [
    "hello_world()"
   ]
  },
  {
   "cell_type": "code",
   "execution_count": 20,
   "id": "fa13828d-c440-4072-b15d-46ecf257dd4f",
   "metadata": {},
   "outputs": [],
   "source": [
    "## Posistional argumnet   (name)\n",
    "## keyword argumnet       (age=29)\n",
    "\n",
    "def hello(name,age=22):\n",
    "    print(\"My name is {} and age is {}\".format(name,age))"
   ]
  },
  {
   "cell_type": "code",
   "execution_count": 21,
   "id": "858391a1-3655-4ac3-87d0-8bccf6b2ecca",
   "metadata": {},
   "outputs": [
    {
     "name": "stdout",
     "output_type": "stream",
     "text": [
      "My name is kalyan and age is 22\n"
     ]
    }
   ],
   "source": [
    "hello('kalyan')"
   ]
  },
  {
   "cell_type": "code",
   "execution_count": 22,
   "id": "09f64fdd-b6dd-450d-965b-18cdc7685cd7",
   "metadata": {},
   "outputs": [],
   "source": [
    "def add_number(num1,num2):\n",
    "    return num1+num2"
   ]
  },
  {
   "cell_type": "code",
   "execution_count": 23,
   "id": "985b5549-7228-41c5-a6aa-c232c69f8d7a",
   "metadata": {},
   "outputs": [
    {
     "data": {
      "text/plain": [
       "50"
      ]
     },
     "execution_count": 23,
     "metadata": {},
     "output_type": "execute_result"
    }
   ],
   "source": [
    "val=add_number(25,25)\n",
    "val"
   ]
  },
  {
   "cell_type": "code",
   "execution_count": 24,
   "id": "0303cab7-0579-4a40-99aa-1ac73315c3f5",
   "metadata": {},
   "outputs": [],
   "source": [
    "def hello(*args,**Kwargs):\n",
    "    print(args)\n",
    "    print(Kwargs)"
   ]
  },
  {
   "cell_type": "code",
   "execution_count": 25,
   "id": "72e5f77c-5c4c-4572-a214-2b7627133ac0",
   "metadata": {},
   "outputs": [
    {
     "name": "stdout",
     "output_type": "stream",
     "text": [
      "('Maadana', 'Kalyan')\n",
      "{'age': 22, 'dob': 2003}\n"
     ]
    }
   ],
   "source": [
    "hello(\"Maadana\", \"Kalyan\", age=22, dob=2003)"
   ]
  },
  {
   "cell_type": "code",
   "execution_count": 26,
   "id": "fb14a765-af43-4a42-931a-f94acbb228ac",
   "metadata": {},
   "outputs": [],
   "source": [
    "lst=['kalyan', 'maadana']\n",
    "dict_args={'age':22, 'dob':2003}"
   ]
  },
  {
   "cell_type": "code",
   "execution_count": 27,
   "id": "b764689a-1f69-40f4-b760-cbf87962edfe",
   "metadata": {},
   "outputs": [
    {
     "name": "stdout",
     "output_type": "stream",
     "text": [
      "(['kalyan', 'maadana'], {'age': 22, 'dob': 2003})\n",
      "{}\n"
     ]
    }
   ],
   "source": [
    "hello(lst,dict_args)"
   ]
  },
  {
   "cell_type": "code",
   "execution_count": 28,
   "id": "5489d0b1-840d-4e9e-b250-e644d7e66a9a",
   "metadata": {},
   "outputs": [],
   "source": [
    "lst=[1,2,3,4,5,6,7]"
   ]
  },
  {
   "cell_type": "code",
   "execution_count": 29,
   "id": "0da3d6b7-87c2-4b7a-b810-f01ec01ed3ad",
   "metadata": {},
   "outputs": [],
   "source": [
    "def evenoddsum(lst):\n",
    "    even_sum=0\n",
    "    odd_sum=0\n",
    "    for i in lst:\n",
    "        if i%2 ==0:\n",
    "            even_sum=even_sum+i\n",
    "    else:\n",
    "        odd_sum=odd_sum+i\n",
    "    return even_sum,odd_sum"
   ]
  },
  {
   "cell_type": "code",
   "execution_count": 30,
   "id": "99f23c24-03d1-4da7-adea-92615bf9f6be",
   "metadata": {},
   "outputs": [
    {
     "data": {
      "text/plain": [
       "(12, 7)"
      ]
     },
     "execution_count": 30,
     "metadata": {},
     "output_type": "execute_result"
    }
   ],
   "source": [
    "evenoddsum(lst)"
   ]
  },
  {
   "cell_type": "markdown",
   "id": "d6e6b18e-e8d1-4fc4-85d7-af66ffebfce9",
   "metadata": {},
   "source": [
    "# Lambda function\n",
    "## ananymous function\n",
    "\n",
    "### A function with no name"
   ]
  },
  {
   "cell_type": "code",
   "execution_count": 31,
   "id": "4d571890-9d5e-4a5a-a0f9-bde11a2c6cb3",
   "metadata": {},
   "outputs": [],
   "source": [
    "def addition(a,b):\n",
    "    return a+b"
   ]
  },
  {
   "cell_type": "code",
   "execution_count": 32,
   "id": "9a027610-95d1-4b44-9964-7a27ebbb6a71",
   "metadata": {},
   "outputs": [
    {
     "data": {
      "text/plain": [
       "14"
      ]
     },
     "execution_count": 32,
     "metadata": {},
     "output_type": "execute_result"
    }
   ],
   "source": [
    "addition(4,10)"
   ]
  },
  {
   "cell_type": "code",
   "execution_count": 33,
   "id": "ecbcef2d-d8cf-416e-b7e5-cf3100379068",
   "metadata": {},
   "outputs": [],
   "source": [
    "addition = lambda a,b:a+b"
   ]
  },
  {
   "cell_type": "code",
   "execution_count": 35,
   "id": "85a6e886-9d14-49e0-89c8-67664a3ebf3d",
   "metadata": {},
   "outputs": [
    {
     "data": {
      "text/plain": [
       "50"
      ]
     },
     "execution_count": 35,
     "metadata": {},
     "output_type": "execute_result"
    }
   ],
   "source": [
    "addition(15,35)"
   ]
  },
  {
   "cell_type": "code",
   "execution_count": 39,
   "id": "231e20b9-92cb-4f53-870b-fb652231d130",
   "metadata": {},
   "outputs": [],
   "source": [
    "def even(num):\n",
    "    if num%2==0:\n",
    "        return True"
   ]
  },
  {
   "cell_type": "code",
   "execution_count": 40,
   "id": "c603acc1-17c7-419e-823a-76fecc2a1fad",
   "metadata": {},
   "outputs": [
    {
     "data": {
      "text/plain": [
       "True"
      ]
     },
     "execution_count": 40,
     "metadata": {},
     "output_type": "execute_result"
    }
   ],
   "source": [
    "even(24)"
   ]
  },
  {
   "cell_type": "code",
   "execution_count": 41,
   "id": "cc841801-d8fc-496e-84ee-4a84e283ca95",
   "metadata": {},
   "outputs": [],
   "source": [
    "even9 = lambda a:a%2==0"
   ]
  },
  {
   "cell_type": "code",
   "execution_count": 42,
   "id": "3cb0de16-d6cd-4742-9006-10255b73063e",
   "metadata": {},
   "outputs": [
    {
     "data": {
      "text/plain": [
       "True"
      ]
     },
     "execution_count": 42,
     "metadata": {},
     "output_type": "execute_result"
    }
   ],
   "source": [
    "even9(12)"
   ]
  },
  {
   "cell_type": "code",
   "execution_count": 43,
   "id": "b55874e0-4877-4a43-9e17-a77f1fa461b7",
   "metadata": {},
   "outputs": [],
   "source": [
    "def addition (x,y,z):\n",
    "    return x+y+z\n"
   ]
  },
  {
   "cell_type": "code",
   "execution_count": 44,
   "id": "19ed0473-110c-4871-9ae0-40e08cd6ca16",
   "metadata": {},
   "outputs": [
    {
     "data": {
      "text/plain": [
       "67"
      ]
     },
     "execution_count": 44,
     "metadata": {},
     "output_type": "execute_result"
    }
   ],
   "source": [
    "addition(22,31,14)"
   ]
  },
  {
   "cell_type": "code",
   "execution_count": 45,
   "id": "29de8ea3-9fc6-4d5a-80c4-8f4b537ee107",
   "metadata": {},
   "outputs": [],
   "source": [
    "addition = lambda x,y,z:x+y+z"
   ]
  },
  {
   "cell_type": "code",
   "execution_count": 46,
   "id": "692f8d2c-6f0b-433b-91ec-76dd45a76d03",
   "metadata": {},
   "outputs": [
    {
     "data": {
      "text/plain": [
       "26"
      ]
     },
     "execution_count": 46,
     "metadata": {},
     "output_type": "execute_result"
    }
   ],
   "source": [
    "addition(1,22,3)"
   ]
  },
  {
   "cell_type": "markdown",
   "id": "df0c1415-d35d-41cb-8c9c-92ca17eaa253",
   "metadata": {},
   "source": [
    "# Map function"
   ]
  },
  {
   "cell_type": "code",
   "execution_count": 47,
   "id": "d0a34ee2-0f62-4c2e-b9e7-bba34a689fe1",
   "metadata": {},
   "outputs": [],
   "source": [
    "def even_or_odd(num):\n",
    "    if num%2==0:\n",
    "        return \"the number {} is Even\".format(num)\n",
    "    else:\n",
    "        return \"the number {} is odd\".format(num)"
   ]
  },
  {
   "cell_type": "code",
   "execution_count": 48,
   "id": "55cd6266-3866-49be-a459-597a66a4fc5f",
   "metadata": {},
   "outputs": [
    {
     "data": {
      "text/plain": [
       "'the number 24 is Even'"
      ]
     },
     "execution_count": 48,
     "metadata": {},
     "output_type": "execute_result"
    }
   ],
   "source": [
    "even_or_odd(24)"
   ]
  },
  {
   "cell_type": "code",
   "execution_count": 49,
   "id": "a38be9e4-8cc2-4c69-a0e3-e25c0263eeb2",
   "metadata": {},
   "outputs": [],
   "source": [
    "lst = [1,2,3,4,5,6,7,8,9,22,33,44,66,76]"
   ]
  },
  {
   "cell_type": "code",
   "execution_count": 50,
   "id": "aa7d4c2c-1c49-46a9-8c44-85382819a101",
   "metadata": {},
   "outputs": [
    {
     "data": {
      "text/plain": [
       "['the number 1 is odd',\n",
       " 'the number 2 is Even',\n",
       " 'the number 3 is odd',\n",
       " 'the number 4 is Even',\n",
       " 'the number 5 is odd',\n",
       " 'the number 6 is Even',\n",
       " 'the number 7 is odd',\n",
       " 'the number 8 is Even',\n",
       " 'the number 9 is odd',\n",
       " 'the number 22 is Even',\n",
       " 'the number 33 is odd',\n",
       " 'the number 44 is Even',\n",
       " 'the number 66 is Even',\n",
       " 'the number 76 is Even']"
      ]
     },
     "execution_count": 50,
     "metadata": {},
     "output_type": "execute_result"
    }
   ],
   "source": [
    "list(map(even_or_odd,lst))"
   ]
  },
  {
   "cell_type": "markdown",
   "id": "e82bde1d-2cc7-47b7-aa7e-83257ebf7329",
   "metadata": {},
   "source": [
    "# Filter Function"
   ]
  },
  {
   "cell_type": "code",
   "execution_count": 56,
   "id": "e1fa3382-51af-456e-bed2-2cf809204acd",
   "metadata": {},
   "outputs": [],
   "source": [
    "def even(num):\n",
    "    if num%2==0:\n",
    "        return True"
   ]
  },
  {
   "cell_type": "code",
   "execution_count": 57,
   "id": "f71b9689-8d13-49fc-a13f-875128c035ba",
   "metadata": {},
   "outputs": [],
   "source": [
    "lst = [17,22,8,42,31,62,75,82,91]"
   ]
  },
  {
   "cell_type": "code",
   "execution_count": 58,
   "id": "2e535302-28d1-4d2c-8a81-3c73718508e1",
   "metadata": {},
   "outputs": [
    {
     "data": {
      "text/plain": [
       "[22, 8, 42, 62, 82]"
      ]
     },
     "execution_count": 58,
     "metadata": {},
     "output_type": "execute_result"
    }
   ],
   "source": [
    "list(filter(even,lst))"
   ]
  },
  {
   "cell_type": "code",
   "execution_count": 59,
   "id": "6783a953-0799-49cd-8968-173a91b4feca",
   "metadata": {},
   "outputs": [
    {
     "data": {
      "text/plain": [
       "[22, 8, 42, 62, 82]"
      ]
     },
     "execution_count": 59,
     "metadata": {},
     "output_type": "execute_result"
    }
   ],
   "source": [
    "list(filter(lambda num:num%2==0,lst))"
   ]
  },
  {
   "cell_type": "code",
   "execution_count": 60,
   "id": "aec36991-12e9-4ea4-a9fb-8bf4da0090f5",
   "metadata": {},
   "outputs": [
    {
     "data": {
      "text/plain": [
       "[False, True, True, True, False, True, False, True, False]"
      ]
     },
     "execution_count": 60,
     "metadata": {},
     "output_type": "execute_result"
    }
   ],
   "source": [
    "list(map(lambda num:num%2==0,lst))"
   ]
  },
  {
   "cell_type": "code",
   "execution_count": null,
   "id": "763e4bf0-05ae-4f8a-a805-0a502ef11f07",
   "metadata": {},
   "outputs": [],
   "source": []
  }
 ],
 "metadata": {
  "kernelspec": {
   "display_name": "Python 3 (ipykernel)",
   "language": "python",
   "name": "python3"
  },
  "language_info": {
   "codemirror_mode": {
    "name": "ipython",
    "version": 3
   },
   "file_extension": ".py",
   "mimetype": "text/x-python",
   "name": "python",
   "nbconvert_exporter": "python",
   "pygments_lexer": "ipython3",
   "version": "3.13.5"
  }
 },
 "nbformat": 4,
 "nbformat_minor": 5
}
